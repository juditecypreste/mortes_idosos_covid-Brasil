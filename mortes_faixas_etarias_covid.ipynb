{
 "cells": [
  {
   "cell_type": "code",
   "execution_count": 1,
   "metadata": {},
   "outputs": [],
   "source": [
    "# Importação de bibliotecas e módulos\n",
    "import pandas as pd\n",
    "import os\n",
    "from pathlib import Path\n",
    "import matplotlib.pyplot as plt\n",
    "import seaborn as sns\n",
    "sns.set(color_codes=True)\n",
    "plt.style.use('seaborn-pastel')\n",
    "plt.rcParams['figure.figsize'] = (6,5)"
   ]
  },
  {
   "cell_type": "code",
   "execution_count": 2,
   "metadata": {},
   "outputs": [],
   "source": [
    "# Me mostre tudo\n",
    "pd.set_option('display.max_rows', None)\n",
    "pd.set_option('display.max_columns', None)"
   ]
  },
  {
   "cell_type": "code",
   "execution_count": 3,
   "metadata": {},
   "outputs": [],
   "source": [
    "# Abrindo bases\n",
    "df_2020 = pd.read_csv('sivep_2020.csv', encoding = 'utf-8', sep = ';', usecols =['CLASSI_FIN', 'EVOLUCAO', 'DT_EVOLUCA','NU_IDADE_N'], parse_dates=['DT_EVOLUCA'], dayfirst=True)\n",
    "df_2021 = pd.read_csv('sivep_2021.csv', encoding = 'utf-8', sep = ';', usecols =['CLASSI_FIN', 'EVOLUCAO', 'DT_EVOLUCA','NU_IDADE_N'], parse_dates=['DT_EVOLUCA'], dayfirst=True)"
   ]
  },
  {
   "cell_type": "code",
   "execution_count": 4,
   "metadata": {},
   "outputs": [],
   "source": [
    "# Unindo as bases\n",
    "sivep = [df_2020, df_2021]\n",
    "df = pd.concat(sivep)"
   ]
  },
  {
   "cell_type": "code",
   "execution_count": 5,
   "metadata": {
    "scrolled": true
   },
   "outputs": [
    {
     "data": {
      "text/html": [
       "<div>\n",
       "<style scoped>\n",
       "    .dataframe tbody tr th:only-of-type {\n",
       "        vertical-align: middle;\n",
       "    }\n",
       "\n",
       "    .dataframe tbody tr th {\n",
       "        vertical-align: top;\n",
       "    }\n",
       "\n",
       "    .dataframe thead th {\n",
       "        text-align: right;\n",
       "    }\n",
       "</style>\n",
       "<table border=\"1\" class=\"dataframe\">\n",
       "  <thead>\n",
       "    <tr style=\"text-align: right;\">\n",
       "      <th></th>\n",
       "      <th>NU_IDADE_N</th>\n",
       "      <th>CLASSI_FIN</th>\n",
       "      <th>EVOLUCAO</th>\n",
       "      <th>DT_EVOLUCA</th>\n",
       "    </tr>\n",
       "  </thead>\n",
       "  <tbody>\n",
       "    <tr>\n",
       "      <th>0</th>\n",
       "      <td>2</td>\n",
       "      <td>2.0</td>\n",
       "      <td>1.0</td>\n",
       "      <td>2020-02-15</td>\n",
       "    </tr>\n",
       "    <tr>\n",
       "      <th>1</th>\n",
       "      <td>11</td>\n",
       "      <td>2.0</td>\n",
       "      <td>1.0</td>\n",
       "      <td>2020-02-13</td>\n",
       "    </tr>\n",
       "    <tr>\n",
       "      <th>2</th>\n",
       "      <td>17</td>\n",
       "      <td>4.0</td>\n",
       "      <td>1.0</td>\n",
       "      <td>2020-02-14</td>\n",
       "    </tr>\n",
       "    <tr>\n",
       "      <th>3</th>\n",
       "      <td>1</td>\n",
       "      <td>2.0</td>\n",
       "      <td>1.0</td>\n",
       "      <td>2020-02-27</td>\n",
       "    </tr>\n",
       "    <tr>\n",
       "      <th>4</th>\n",
       "      <td>68</td>\n",
       "      <td>4.0</td>\n",
       "      <td>2.0</td>\n",
       "      <td>2020-03-25</td>\n",
       "    </tr>\n",
       "  </tbody>\n",
       "</table>\n",
       "</div>"
      ],
      "text/plain": [
       "   NU_IDADE_N  CLASSI_FIN  EVOLUCAO DT_EVOLUCA\n",
       "0           2         2.0       1.0 2020-02-15\n",
       "1          11         2.0       1.0 2020-02-13\n",
       "2          17         4.0       1.0 2020-02-14\n",
       "3           1         2.0       1.0 2020-02-27\n",
       "4          68         4.0       2.0 2020-03-25"
      ]
     },
     "execution_count": 5,
     "metadata": {},
     "output_type": "execute_result"
    }
   ],
   "source": [
    "# Vendo meu df\n",
    "df.head()"
   ]
  },
  {
   "cell_type": "code",
   "execution_count": 6,
   "metadata": {},
   "outputs": [],
   "source": [
    "# Selecionando apenas os casos de Covid. Dicionário: 5-SRAG por COVID-19\n",
    "df = df[df.CLASSI_FIN == 5]"
   ]
  },
  {
   "cell_type": "code",
   "execution_count": 7,
   "metadata": {},
   "outputs": [],
   "source": [
    "# Selecionando apenas os casos de Covid que vieram a óbito. Dicionário: 2-Óbito\n",
    "df = df[df.EVOLUCAO == 2]"
   ]
  },
  {
   "cell_type": "code",
   "execution_count": 8,
   "metadata": {},
   "outputs": [],
   "source": [
    "# Apagando nulos\n",
    "df = df.dropna()"
   ]
  },
  {
   "cell_type": "code",
   "execution_count": 9,
   "metadata": {},
   "outputs": [],
   "source": [
    "# Criando age range\n",
    "bins = [0, 59, 200]"
   ]
  },
  {
   "cell_type": "code",
   "execution_count": 10,
   "metadata": {},
   "outputs": [],
   "source": [
    "# Criando labls para idosos e não idosos\n",
    "labels = ['59-', '60+']"
   ]
  },
  {
   "cell_type": "code",
   "execution_count": 11,
   "metadata": {},
   "outputs": [],
   "source": [
    "# Criando coluna de acordo com meu agerange\n",
    "df['agerange'] = pd.cut(df.NU_IDADE_N, bins, labels=labels, include_lowest=True)"
   ]
  },
  {
   "cell_type": "code",
   "execution_count": 12,
   "metadata": {
    "scrolled": false
   },
   "outputs": [
    {
     "data": {
      "text/html": [
       "<div>\n",
       "<style scoped>\n",
       "    .dataframe tbody tr th:only-of-type {\n",
       "        vertical-align: middle;\n",
       "    }\n",
       "\n",
       "    .dataframe tbody tr th {\n",
       "        vertical-align: top;\n",
       "    }\n",
       "\n",
       "    .dataframe thead th {\n",
       "        text-align: right;\n",
       "    }\n",
       "</style>\n",
       "<table border=\"1\" class=\"dataframe\">\n",
       "  <thead>\n",
       "    <tr style=\"text-align: right;\">\n",
       "      <th></th>\n",
       "      <th>NU_IDADE_N</th>\n",
       "      <th>CLASSI_FIN</th>\n",
       "      <th>EVOLUCAO</th>\n",
       "      <th>DT_EVOLUCA</th>\n",
       "      <th>agerange</th>\n",
       "    </tr>\n",
       "  </thead>\n",
       "  <tbody>\n",
       "    <tr>\n",
       "      <th>12</th>\n",
       "      <td>88</td>\n",
       "      <td>5.0</td>\n",
       "      <td>2.0</td>\n",
       "      <td>2020-03-20</td>\n",
       "      <td>60+</td>\n",
       "    </tr>\n",
       "    <tr>\n",
       "      <th>24</th>\n",
       "      <td>54</td>\n",
       "      <td>5.0</td>\n",
       "      <td>2.0</td>\n",
       "      <td>2020-03-29</td>\n",
       "      <td>59-</td>\n",
       "    </tr>\n",
       "    <tr>\n",
       "      <th>57</th>\n",
       "      <td>79</td>\n",
       "      <td>5.0</td>\n",
       "      <td>2.0</td>\n",
       "      <td>2020-03-22</td>\n",
       "      <td>60+</td>\n",
       "    </tr>\n",
       "    <tr>\n",
       "      <th>66</th>\n",
       "      <td>69</td>\n",
       "      <td>5.0</td>\n",
       "      <td>2.0</td>\n",
       "      <td>2020-04-08</td>\n",
       "      <td>60+</td>\n",
       "    </tr>\n",
       "    <tr>\n",
       "      <th>78</th>\n",
       "      <td>81</td>\n",
       "      <td>5.0</td>\n",
       "      <td>2.0</td>\n",
       "      <td>2020-04-02</td>\n",
       "      <td>60+</td>\n",
       "    </tr>\n",
       "  </tbody>\n",
       "</table>\n",
       "</div>"
      ],
      "text/plain": [
       "    NU_IDADE_N  CLASSI_FIN  EVOLUCAO DT_EVOLUCA agerange\n",
       "12          88         5.0       2.0 2020-03-20      60+\n",
       "24          54         5.0       2.0 2020-03-29      59-\n",
       "57          79         5.0       2.0 2020-03-22      60+\n",
       "66          69         5.0       2.0 2020-04-08      60+\n",
       "78          81         5.0       2.0 2020-04-02      60+"
      ]
     },
     "execution_count": 12,
     "metadata": {},
     "output_type": "execute_result"
    }
   ],
   "source": [
    "# Vendo meu df\n",
    "df.head()"
   ]
  },
  {
   "cell_type": "code",
   "execution_count": 13,
   "metadata": {},
   "outputs": [],
   "source": [
    "# Criando as colunas de ano e mês\n",
    "df['ano'] = df['DT_EVOLUCA'].dt.year"
   ]
  },
  {
   "cell_type": "code",
   "execution_count": 14,
   "metadata": {},
   "outputs": [],
   "source": [
    "# Separando dfs de acordo com ano\n",
    "df2020 = df[df.ano == 2020]\n",
    "df2021 = df[df.ano == 2021]"
   ]
  },
  {
   "cell_type": "code",
   "execution_count": 17,
   "metadata": {
    "scrolled": true
   },
   "outputs": [
    {
     "data": {
      "text/plain": [
       "agerange  DT_EVOLUCA\n",
       "59-       3               179\n",
       "          4              3733\n",
       "          5              8484\n",
       "          6              7045\n",
       "          7              7225\n",
       "          8              5801\n",
       "          9              4046\n",
       "          10             2938\n",
       "          11             2745\n",
       "          12             5130\n",
       "60+       3               531\n",
       "          4              8928\n",
       "          5             24148\n",
       "          6             21594\n",
       "          7             22661\n",
       "          8             19690\n",
       "          9             14300\n",
       "          10            10321\n",
       "          11            10330\n",
       "          12            18713\n",
       "dtype: int64"
      ]
     },
     "execution_count": 17,
     "metadata": {},
     "output_type": "execute_result"
    }
   ],
   "source": [
    "# Agrupando mortes por mês e pelas faixas etárias selecionadas\n",
    "df2020_mortes = df2020.groupby([df2020['agerange'], df2020['DT_EVOLUCA'].dt.month]).size()\n",
    "df2020_mortes"
   ]
  },
  {
   "cell_type": "code",
   "execution_count": 121,
   "metadata": {},
   "outputs": [
    {
     "data": {
      "image/png": "[encoded data removed]",
      "text/plain": [
       "<Figure size 1440x360 with 1 Axes>"
      ]
     },
     "metadata": {},
     "output_type": "display_data"
    }
   ],
   "source": [
    "# Montando gráfico de barras \n",
    "mortes = df2020.drop(['NU_IDADE_N', 'CLASSI_FIN', 'EVOLUCAO'], axis=1)\n",
    "mortes = mortes.groupby([mortes['agerange'], mortes['DT_EVOLUCA'].dt.month]).size()\n",
    "ax = mortes.unstack(level=0).plot(kind='bar', figsize=(20,5))\n",
    "ax.set_title('Mortes por Covid em 2020 (Até 59 e acima de 60 anos)', fontsize=14)\n",
    "ax.set_xlabel('Mês')\n",
    "ax.set_ylabel('Óbitos')\n",
    "ax.legend(fontsize = 15, bbox_to_anchor=(1, 0.5))\n",
    "ax.set_frame_on(False)\n",
    "sns.set_style(\"whitegrid\")\n",
    "for p in ax.patches:\n",
    "    ax.annotate(format(p.get_height(), '.1f'), \n",
    "                   (p.get_x() + p.get_width()/4, p.get_height()), \n",
    "                   ha = 'center', va = 'center', \n",
    "                   xytext = (0, 9), \n",
    "                   textcoords = 'offset points')"
   ]
  },
  {
   "cell_type": "code",
   "execution_count": 34,
   "metadata": {},
   "outputs": [
    {
     "data": {
      "text/plain": [
       "agerange  DT_EVOLUCA\n",
       "59-       1              6742\n",
       "          2              6859\n",
       "          3             19643\n",
       "          4              5348\n",
       "60+       1             22896\n",
       "          2             19834\n",
       "          3             43531\n",
       "          4             10135\n",
       "dtype: int64"
      ]
     },
     "execution_count": 34,
     "metadata": {},
     "output_type": "execute_result"
    }
   ],
   "source": [
    "# Agrupando mortes por mês e pelas faixas etárias selecionadas\n",
    "df2021_mortes = df2021.groupby([df2021['agerange'], df2021['DT_EVOLUCA'].dt.month]).size()\n",
    "df2021_mortes"
   ]
  },
  {
   "cell_type": "code",
   "execution_count": 132,
   "metadata": {},
   "outputs": [
    {
     "data": {
      "image/png": "[encoded data removed]",
      "text/plain": [
       "<Figure size 1440x360 with 1 Axes>"
      ]
     },
     "metadata": {},
     "output_type": "display_data"
    }
   ],
   "source": [
    "# Montando gráfico de barras \n",
    "mortes = df2021.drop(['NU_IDADE_N', 'CLASSI_FIN', 'EVOLUCAO'], axis=1)\n",
    "mortes = mortes.groupby([mortes['agerange'], mortes['DT_EVOLUCA'].dt.month]).size()\n",
    "ax = mortes.unstack(level=0).plot(kind='bar', figsize=(20,5))\n",
    "ax.set_title('Mortes por Covid em 2020 (Até 59 e acima de 60 anos)', fontsize=14)\n",
    "ax.set_xlabel('Mês')\n",
    "ax.set_ylabel('Óbitos')\n",
    "ax.legend(fontsize = 15, bbox_to_anchor=(1, 0.5))\n",
    "ax.set_frame_on(False)\n",
    "sns.set_style(\"whitegrid\")\n",
    "for p in ax.patches:\n",
    "    ax.annotate(format(p.get_height(), '.1f'), \n",
    "                   (p.get_x() + p.get_width()/2, p.get_height()), \n",
    "                   ha = 'center', va = 'center', \n",
    "                   xytext = (0, 9), \n",
    "                   textcoords = 'offset points')"
   ]
  }
 ],
 "metadata": {
  "kernelspec": {
   "display_name": "Python 3",
   "language": "python",
   "name": "python3"
  },
  "language_info": {
   "codemirror_mode": {
    "name": "ipython",
    "version": 3
   },
   "file_extension": ".py",
   "mimetype": "text/x-python",
   "name": "python",
   "nbconvert_exporter": "python",
   "pygments_lexer": "ipython3",
   "version": "3.8.5"
  }
 },
 "nbformat": 4,
 "nbformat_minor": 5
}
